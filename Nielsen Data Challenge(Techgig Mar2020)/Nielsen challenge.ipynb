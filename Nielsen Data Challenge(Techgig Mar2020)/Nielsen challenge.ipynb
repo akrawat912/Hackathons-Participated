{
 "cells": [
  {
   "cell_type": "code",
   "execution_count": 1,
   "metadata": {},
   "outputs": [],
   "source": [
    "import numpy as np\n",
    "import pandas as pd\n",
    "import matplotlib.pyplot as plt\n",
    "import seaborn as sns\n",
    "import warnings\n",
    "warnings.filterwarnings('ignore')"
   ]
  },
  {
   "cell_type": "code",
   "execution_count": 2,
   "metadata": {
    "scrolled": true
   },
   "outputs": [
    {
     "data": {
      "text/html": [
       "<div>\n",
       "<style scoped>\n",
       "    .dataframe tbody tr th:only-of-type {\n",
       "        vertical-align: middle;\n",
       "    }\n",
       "\n",
       "    .dataframe tbody tr th {\n",
       "        vertical-align: top;\n",
       "    }\n",
       "\n",
       "    .dataframe thead th {\n",
       "        text-align: right;\n",
       "    }\n",
       "</style>\n",
       "<table border=\"1\" class=\"dataframe\">\n",
       "  <thead>\n",
       "    <tr style=\"text-align: right;\">\n",
       "      <th></th>\n",
       "      <th>MONTH</th>\n",
       "      <th>STORECODE</th>\n",
       "      <th>DAY</th>\n",
       "      <th>BILL_ID</th>\n",
       "      <th>BILL_AMT</th>\n",
       "      <th>QTY</th>\n",
       "      <th>VALUE</th>\n",
       "      <th>PRICE</th>\n",
       "      <th>GRP</th>\n",
       "      <th>SGRP</th>\n",
       "      <th>SSGRP</th>\n",
       "      <th>CMP</th>\n",
       "      <th>MBRD</th>\n",
       "      <th>BRD</th>\n",
       "    </tr>\n",
       "  </thead>\n",
       "  <tbody>\n",
       "    <tr>\n",
       "      <th>0</th>\n",
       "      <td>M1</td>\n",
       "      <td>N1</td>\n",
       "      <td>4</td>\n",
       "      <td>T375</td>\n",
       "      <td>225.0</td>\n",
       "      <td>1.0</td>\n",
       "      <td>225.0</td>\n",
       "      <td>225.0</td>\n",
       "      <td>BUTTER MARGR  (4/94)</td>\n",
       "      <td>BUTTER</td>\n",
       "      <td>SALTED</td>\n",
       "      <td>G C M M F</td>\n",
       "      <td>AMUL</td>\n",
       "      <td>AMUL</td>\n",
       "    </tr>\n",
       "    <tr>\n",
       "      <th>1</th>\n",
       "      <td>M1</td>\n",
       "      <td>N1</td>\n",
       "      <td>4</td>\n",
       "      <td>T379</td>\n",
       "      <td>95.0</td>\n",
       "      <td>1.0</td>\n",
       "      <td>95.0</td>\n",
       "      <td>95.0</td>\n",
       "      <td>CONFECTIONERY - ECLAIRS</td>\n",
       "      <td>CONFECTIONERY - ECLAIRS</td>\n",
       "      <td>CONFECTIONERY - ECLAIRS</td>\n",
       "      <td>PARLE PRODS</td>\n",
       "      <td>MELODY</td>\n",
       "      <td>MELODY CHOCOLATY</td>\n",
       "    </tr>\n",
       "    <tr>\n",
       "      <th>2</th>\n",
       "      <td>M1</td>\n",
       "      <td>N1</td>\n",
       "      <td>4</td>\n",
       "      <td>T381</td>\n",
       "      <td>10.0</td>\n",
       "      <td>1.0</td>\n",
       "      <td>10.0</td>\n",
       "      <td>10.0</td>\n",
       "      <td>CHOCOLATE</td>\n",
       "      <td>CHOCOLATE PANNED</td>\n",
       "      <td>CHOCOLATE PANNED</td>\n",
       "      <td>MONDELEZ INTERNATIONAL</td>\n",
       "      <td>CADBURY SHOTS</td>\n",
       "      <td>CADBURY SHOTS</td>\n",
       "    </tr>\n",
       "    <tr>\n",
       "      <th>3</th>\n",
       "      <td>M1</td>\n",
       "      <td>N1</td>\n",
       "      <td>4</td>\n",
       "      <td>T382</td>\n",
       "      <td>108.0</td>\n",
       "      <td>1.0</td>\n",
       "      <td>108.0</td>\n",
       "      <td>108.0</td>\n",
       "      <td>PACKAGED TEA</td>\n",
       "      <td>MAIN PACKS</td>\n",
       "      <td>MAIN PACKS</td>\n",
       "      <td>GUJ TEA PROCESSORS</td>\n",
       "      <td>WAGH BAKRI</td>\n",
       "      <td>WAGH BAKRI INSTANT</td>\n",
       "    </tr>\n",
       "    <tr>\n",
       "      <th>4</th>\n",
       "      <td>M1</td>\n",
       "      <td>N1</td>\n",
       "      <td>4</td>\n",
       "      <td>T384</td>\n",
       "      <td>19.0</td>\n",
       "      <td>1.0</td>\n",
       "      <td>19.0</td>\n",
       "      <td>19.0</td>\n",
       "      <td>ALL IODISED SALT</td>\n",
       "      <td>POWDERED SALT</td>\n",
       "      <td>POWDERED SALT</td>\n",
       "      <td>TATA CHEM</td>\n",
       "      <td>TATA</td>\n",
       "      <td>TATA SALT</td>\n",
       "    </tr>\n",
       "  </tbody>\n",
       "</table>\n",
       "</div>"
      ],
      "text/plain": [
       "  MONTH STORECODE  DAY BILL_ID  BILL_AMT  QTY  VALUE  PRICE  \\\n",
       "0    M1        N1    4    T375     225.0  1.0  225.0  225.0   \n",
       "1    M1        N1    4    T379      95.0  1.0   95.0   95.0   \n",
       "2    M1        N1    4    T381      10.0  1.0   10.0   10.0   \n",
       "3    M1        N1    4    T382     108.0  1.0  108.0  108.0   \n",
       "4    M1        N1    4    T384      19.0  1.0   19.0   19.0   \n",
       "\n",
       "                       GRP                     SGRP                    SSGRP  \\\n",
       "0     BUTTER MARGR  (4/94)                   BUTTER                   SALTED   \n",
       "1  CONFECTIONERY - ECLAIRS  CONFECTIONERY - ECLAIRS  CONFECTIONERY - ECLAIRS   \n",
       "2                CHOCOLATE         CHOCOLATE PANNED         CHOCOLATE PANNED   \n",
       "3             PACKAGED TEA               MAIN PACKS               MAIN PACKS   \n",
       "4         ALL IODISED SALT            POWDERED SALT            POWDERED SALT   \n",
       "\n",
       "                      CMP           MBRD                 BRD  \n",
       "0               G C M M F           AMUL                AMUL  \n",
       "1             PARLE PRODS         MELODY    MELODY CHOCOLATY  \n",
       "2  MONDELEZ INTERNATIONAL  CADBURY SHOTS       CADBURY SHOTS  \n",
       "3      GUJ TEA PROCESSORS     WAGH BAKRI  WAGH BAKRI INSTANT  \n",
       "4               TATA CHEM           TATA           TATA SALT  "
      ]
     },
     "execution_count": 2,
     "metadata": {},
     "output_type": "execute_result"
    }
   ],
   "source": [
    "data=pd.read_csv('Hackathon_Working_Data.csv')\n",
    "test=pd.read_csv('Hackathon_Validation_Data.csv')\n",
    "data.head()"
   ]
  },
  {
   "cell_type": "code",
   "execution_count": 3,
   "metadata": {},
   "outputs": [
    {
     "data": {
      "text/plain": [
       "(12, 14)"
      ]
     },
     "execution_count": 3,
     "metadata": {},
     "output_type": "execute_result"
    }
   ],
   "source": [
    "data[data['PRICE']==0].shape\n",
    "# samples having 0 price"
   ]
  },
  {
   "cell_type": "code",
   "execution_count": 4,
   "metadata": {},
   "outputs": [],
   "source": [
    "# predicting price for samples having 0.0 price with help of other sample based on same GRP, MBRD and STORECODE \n",
    "zero_price_samples=data[['GRP','MBRD','STORECODE']][data['PRICE']==0] "
   ]
  },
  {
   "cell_type": "code",
   "execution_count": 5,
   "metadata": {},
   "outputs": [
    {
     "data": {
      "text/plain": [
       "['KETCHUPS/SAUCES',\n",
       " 'HAIR OILS PKTP(8/02)',\n",
       " 'WASHING POWDERS/LIQUIDS',\n",
       " 'CHEESE        (4/94)',\n",
       " 'TOOTH PASTES',\n",
       " 'SHAMPOO - BY SEGMENTS',\n",
       " 'CLEANERS - UTENSIL',\n",
       " 'REFINED EDIBLE OILS-ALL PACKS']"
      ]
     },
     "execution_count": 5,
     "metadata": {},
     "output_type": "execute_result"
    }
   ],
   "source": [
    "zero_grp=list(zero_price_samples['GRP'].unique())\n",
    "zero_grp\n",
    "# these are GRPs having some zero price"
   ]
  },
  {
   "cell_type": "code",
   "execution_count": 6,
   "metadata": {},
   "outputs": [
    {
     "data": {
      "text/plain": [
       "['N7', 'N10', 'N1']"
      ]
     },
     "execution_count": 6,
     "metadata": {},
     "output_type": "execute_result"
    }
   ],
   "source": [
    "zero_store=list(zero_price_samples['STORECODE'].unique())\n",
    "zero_store\n",
    "#stores having some zero price"
   ]
  },
  {
   "cell_type": "code",
   "execution_count": 7,
   "metadata": {},
   "outputs": [
    {
     "data": {
      "text/plain": [
       "['FUN FOODS',\n",
       " 'NAVRATNA',\n",
       " 'RIN',\n",
       " 'BRITANNIA',\n",
       " 'COLGATE MAX FRESH',\n",
       " 'PATANJALI',\n",
       " 'OM SHANTHI',\n",
       " 'SURF',\n",
       " 'FORTUNE',\n",
       " 'SAFFOLA']"
      ]
     },
     "execution_count": 7,
     "metadata": {},
     "output_type": "execute_result"
    }
   ],
   "source": [
    "zero_mbrd=list(zero_price_samples['MBRD'].unique())\n",
    "zero_mbrd\n",
    "# MBRD for samples having zero price"
   ]
  },
  {
   "cell_type": "code",
   "execution_count": 8,
   "metadata": {},
   "outputs": [
    {
     "data": {
      "text/html": [
       "<div>\n",
       "<style scoped>\n",
       "    .dataframe tbody tr th:only-of-type {\n",
       "        vertical-align: middle;\n",
       "    }\n",
       "\n",
       "    .dataframe tbody tr th {\n",
       "        vertical-align: top;\n",
       "    }\n",
       "\n",
       "    .dataframe thead th {\n",
       "        text-align: right;\n",
       "    }\n",
       "</style>\n",
       "<table border=\"1\" class=\"dataframe\">\n",
       "  <thead>\n",
       "    <tr style=\"text-align: right;\">\n",
       "      <th></th>\n",
       "      <th>GRP</th>\n",
       "      <th>MBRD</th>\n",
       "      <th>STORECODE</th>\n",
       "    </tr>\n",
       "  </thead>\n",
       "  <tbody>\n",
       "    <tr>\n",
       "      <th>5317</th>\n",
       "      <td>KETCHUPS/SAUCES</td>\n",
       "      <td>FUN FOODS</td>\n",
       "      <td>N7</td>\n",
       "    </tr>\n",
       "    <tr>\n",
       "      <th>5989</th>\n",
       "      <td>HAIR OILS PKTP(8/02)</td>\n",
       "      <td>NAVRATNA</td>\n",
       "      <td>N7</td>\n",
       "    </tr>\n",
       "    <tr>\n",
       "      <th>6680</th>\n",
       "      <td>HAIR OILS PKTP(8/02)</td>\n",
       "      <td>NAVRATNA</td>\n",
       "      <td>N7</td>\n",
       "    </tr>\n",
       "    <tr>\n",
       "      <th>6972</th>\n",
       "      <td>WASHING POWDERS/LIQUIDS</td>\n",
       "      <td>RIN</td>\n",
       "      <td>N7</td>\n",
       "    </tr>\n",
       "    <tr>\n",
       "      <th>10789</th>\n",
       "      <td>CHEESE        (4/94)</td>\n",
       "      <td>BRITANNIA</td>\n",
       "      <td>N10</td>\n",
       "    </tr>\n",
       "    <tr>\n",
       "      <th>13684</th>\n",
       "      <td>TOOTH PASTES</td>\n",
       "      <td>COLGATE MAX FRESH</td>\n",
       "      <td>N7</td>\n",
       "    </tr>\n",
       "    <tr>\n",
       "      <th>13806</th>\n",
       "      <td>SHAMPOO - BY SEGMENTS</td>\n",
       "      <td>PATANJALI</td>\n",
       "      <td>N7</td>\n",
       "    </tr>\n",
       "    <tr>\n",
       "      <th>15215</th>\n",
       "      <td>CLEANERS - UTENSIL</td>\n",
       "      <td>OM SHANTHI</td>\n",
       "      <td>N7</td>\n",
       "    </tr>\n",
       "    <tr>\n",
       "      <th>16615</th>\n",
       "      <td>WASHING POWDERS/LIQUIDS</td>\n",
       "      <td>SURF</td>\n",
       "      <td>N1</td>\n",
       "    </tr>\n",
       "    <tr>\n",
       "      <th>20568</th>\n",
       "      <td>REFINED EDIBLE OILS-ALL PACKS</td>\n",
       "      <td>FORTUNE</td>\n",
       "      <td>N10</td>\n",
       "    </tr>\n",
       "    <tr>\n",
       "      <th>21311</th>\n",
       "      <td>CHEESE        (4/94)</td>\n",
       "      <td>BRITANNIA</td>\n",
       "      <td>N10</td>\n",
       "    </tr>\n",
       "    <tr>\n",
       "      <th>26281</th>\n",
       "      <td>REFINED EDIBLE OILS-ALL PACKS</td>\n",
       "      <td>SAFFOLA</td>\n",
       "      <td>N10</td>\n",
       "    </tr>\n",
       "  </tbody>\n",
       "</table>\n",
       "</div>"
      ],
      "text/plain": [
       "                                 GRP               MBRD STORECODE\n",
       "5317                 KETCHUPS/SAUCES          FUN FOODS        N7\n",
       "5989            HAIR OILS PKTP(8/02)           NAVRATNA        N7\n",
       "6680            HAIR OILS PKTP(8/02)           NAVRATNA        N7\n",
       "6972         WASHING POWDERS/LIQUIDS                RIN        N7\n",
       "10789           CHEESE        (4/94)          BRITANNIA       N10\n",
       "13684                   TOOTH PASTES  COLGATE MAX FRESH        N7\n",
       "13806          SHAMPOO - BY SEGMENTS          PATANJALI        N7\n",
       "15215             CLEANERS - UTENSIL         OM SHANTHI        N7\n",
       "16615        WASHING POWDERS/LIQUIDS               SURF        N1\n",
       "20568  REFINED EDIBLE OILS-ALL PACKS            FORTUNE       N10\n",
       "21311           CHEESE        (4/94)          BRITANNIA       N10\n",
       "26281  REFINED EDIBLE OILS-ALL PACKS            SAFFOLA       N10"
      ]
     },
     "execution_count": 8,
     "metadata": {},
     "output_type": "execute_result"
    }
   ],
   "source": [
    "zero_price=data[['GRP','MBRD','STORECODE']][data['PRICE']==0]\n",
    "zero_price\n",
    "# these are the GRPs, MBRDs and STORECODE where samples having some 0 price"
   ]
  },
  {
   "cell_type": "code",
   "execution_count": 9,
   "metadata": {},
   "outputs": [],
   "source": [
    "def missing_grp_price(grp,mbrd,store):\n",
    "    res=data['PRICE'][data['MBRD']==mbrd][data['GRP']==grp][data['STORECODE']==store][data['PRICE']!=0]\n",
    "    if  res.count()==0:\n",
    "        return data['PRICE'][data['GRP']==grp][data['STORECODE']==store][data['PRICE']!=0].mode()[0]\n",
    "    else:\n",
    "        return res.mode()[0]\n",
    "#collecting price from specific STOREs based on MBRD because there can be many GRPs with different MBRD and different price"
   ]
  },
  {
   "cell_type": "code",
   "execution_count": 10,
   "metadata": {},
   "outputs": [],
   "source": [
    "imputed_price=[]\n",
    "for i in range(12):\n",
    "    ind=zero_price.iloc[i,:]\n",
    "    imputed_price.append(missing_grp_price(ind[0],ind[1],ind[2]))"
   ]
  },
  {
   "cell_type": "code",
   "execution_count": 11,
   "metadata": {},
   "outputs": [
    {
     "data": {
      "text/plain": [
       "[15.0, 36.5, 36.5, 36.6, 108.0, 5.0, 1.0, 9.75, 10.0, 120.0, 108.0, 200.0]"
      ]
     },
     "execution_count": 11,
     "metadata": {},
     "output_type": "execute_result"
    }
   ],
   "source": [
    "imputed_price\n",
    "# prices to impute "
   ]
  },
  {
   "cell_type": "code",
   "execution_count": 12,
   "metadata": {},
   "outputs": [],
   "source": [
    "for i,j in zip(list(zero_price.index),imputed_price):\n",
    "    data.loc[i,'PRICE']=j"
   ]
  },
  {
   "cell_type": "code",
   "execution_count": 13,
   "metadata": {},
   "outputs": [],
   "source": [
    "df=data.groupby(['MONTH','STORECODE'])['VALUE'].sum()\n",
    "df=pd.DataFrame(df)"
   ]
  },
  {
   "cell_type": "code",
   "execution_count": 45,
   "metadata": {},
   "outputs": [
    {
     "data": {
      "image/png": "[encoded data removed]",
      "text/plain": [
       "<Figure size 432x288 with 1 Axes>"
      ]
     },
     "metadata": {
      "needs_background": "light"
     },
     "output_type": "display_data"
    }
   ],
   "source": [
    "df.unstack().T.plot.bar()\n",
    "plt.title('Samples count of all stores month wise')\n",
    "plt.xlabel('STORECODE')\n",
    "plt.ylabel('VALUE')\n",
    "plt.show()"
   ]
  },
  {
   "cell_type": "markdown",
   "metadata": {},
   "source": [
    "### Our bar is showing high variablity in months in same store\n",
    "### this could occur due to samples not collected on daily basis\n",
    "##### lets see which days samples are not collected from different stores and again in different month"
   ]
  },
  {
   "cell_type": "code",
   "execution_count": 15,
   "metadata": {},
   "outputs": [],
   "source": [
    "def miss_days(mon,store):\n",
    "    days=[]\n",
    "    mn=data['DAY'][data['MONTH']==mon][data['STORECODE']==store].value_counts().index\n",
    "    [days.append(i) for i in np.arange(1,31) if i not in list(mn)]\n",
    "    return days"
   ]
  },
  {
   "cell_type": "markdown",
   "metadata": {},
   "source": [
    "### missing days from each store monthly"
   ]
  },
  {
   "cell_type": "code",
   "execution_count": 16,
   "metadata": {},
   "outputs": [],
   "source": [
    "months=data.MONTH.unique()\n",
    "stores=data.STORECODE.unique()"
   ]
  },
  {
   "cell_type": "code",
   "execution_count": 17,
   "metadata": {},
   "outputs": [],
   "source": [
    "m1=[]\n",
    "m2=[]\n",
    "m3=[]\n",
    "for i in stores:\n",
    "    m1.append(len(miss_days('M1',i)))\n",
    "    m2.append(len(miss_days('M2',i)))\n",
    "    m3.append(len(miss_days('M3',i)))"
   ]
  },
  {
   "cell_type": "code",
   "execution_count": 18,
   "metadata": {},
   "outputs": [],
   "source": [
    "dt=pd.DataFrame({'M1':m1,'M2':m2,'M3':m3}, index=stores)"
   ]
  },
  {
   "cell_type": "code",
   "execution_count": 19,
   "metadata": {},
   "outputs": [
    {
     "data": {
      "text/html": [
       "<div>\n",
       "<style scoped>\n",
       "    .dataframe tbody tr th:only-of-type {\n",
       "        vertical-align: middle;\n",
       "    }\n",
       "\n",
       "    .dataframe tbody tr th {\n",
       "        vertical-align: top;\n",
       "    }\n",
       "\n",
       "    .dataframe thead th {\n",
       "        text-align: right;\n",
       "    }\n",
       "</style>\n",
       "<table border=\"1\" class=\"dataframe\">\n",
       "  <thead>\n",
       "    <tr style=\"text-align: right;\">\n",
       "      <th></th>\n",
       "      <th>M1</th>\n",
       "      <th>M2</th>\n",
       "      <th>M3</th>\n",
       "    </tr>\n",
       "  </thead>\n",
       "  <tbody>\n",
       "    <tr>\n",
       "      <th>N1</th>\n",
       "      <td>9</td>\n",
       "      <td>10</td>\n",
       "      <td>4</td>\n",
       "    </tr>\n",
       "    <tr>\n",
       "      <th>N2</th>\n",
       "      <td>7</td>\n",
       "      <td>11</td>\n",
       "      <td>12</td>\n",
       "    </tr>\n",
       "    <tr>\n",
       "      <th>N3</th>\n",
       "      <td>9</td>\n",
       "      <td>8</td>\n",
       "      <td>10</td>\n",
       "    </tr>\n",
       "    <tr>\n",
       "      <th>N4</th>\n",
       "      <td>11</td>\n",
       "      <td>7</td>\n",
       "      <td>2</td>\n",
       "    </tr>\n",
       "    <tr>\n",
       "      <th>N5</th>\n",
       "      <td>9</td>\n",
       "      <td>8</td>\n",
       "      <td>6</td>\n",
       "    </tr>\n",
       "    <tr>\n",
       "      <th>N6</th>\n",
       "      <td>12</td>\n",
       "      <td>9</td>\n",
       "      <td>9</td>\n",
       "    </tr>\n",
       "    <tr>\n",
       "      <th>N7</th>\n",
       "      <td>9</td>\n",
       "      <td>4</td>\n",
       "      <td>10</td>\n",
       "    </tr>\n",
       "    <tr>\n",
       "      <th>N8</th>\n",
       "      <td>7</td>\n",
       "      <td>10</td>\n",
       "      <td>6</td>\n",
       "    </tr>\n",
       "    <tr>\n",
       "      <th>N9</th>\n",
       "      <td>8</td>\n",
       "      <td>10</td>\n",
       "      <td>16</td>\n",
       "    </tr>\n",
       "    <tr>\n",
       "      <th>N10</th>\n",
       "      <td>4</td>\n",
       "      <td>8</td>\n",
       "      <td>5</td>\n",
       "    </tr>\n",
       "  </tbody>\n",
       "</table>\n",
       "</div>"
      ],
      "text/plain": [
       "     M1  M2  M3\n",
       "N1    9  10   4\n",
       "N2    7  11  12\n",
       "N3    9   8  10\n",
       "N4   11   7   2\n",
       "N5    9   8   6\n",
       "N6   12   9   9\n",
       "N7    9   4  10\n",
       "N8    7  10   6\n",
       "N9    8  10  16\n",
       "N10   4   8   5"
      ]
     },
     "execution_count": 19,
     "metadata": {},
     "output_type": "execute_result"
    }
   ],
   "source": [
    "dt"
   ]
  },
  {
   "cell_type": "code",
   "execution_count": 47,
   "metadata": {},
   "outputs": [
    {
     "data": {
      "image/png": "[encoded data removed]",
      "text/plain": [
       "<Figure size 432x288 with 2 Axes>"
      ]
     },
     "metadata": {
      "needs_background": "light"
     },
     "output_type": "display_data"
    }
   ],
   "source": [
    "sns.heatmap(dt, cmap='coolwarm')\n",
    "plt.title('heatmap of total missed days from stores, monthly')\n",
    "plt.show()\n",
    "# high maroon shade is showing missed days sample for particular month and store\n",
    "# as see store N9 from month 3 has nearly 50% (half month) samples collected"
   ]
  },
  {
   "cell_type": "markdown",
   "metadata": {},
   "source": [
    "### imputation/extrapolation technique for not collected samples from various days in a month can be:\n",
    "##### examining which GRP of items is sold highly on which store on what day.\n",
    "##### counting day wise samples frequency for particular STORE and MONTH means on which day how much billing gets done so we can impute for next or previous missed days.\n",
    "##### filling missed days with high occured GRP  in store and month wise."
   ]
  },
  {
   "cell_type": "code",
   "execution_count": 21,
   "metadata": {},
   "outputs": [],
   "source": [
    "def top_grp_sale(df,mon, store):\n",
    "    return df['GRP'][df['MONTH']==mon][df['STORECODE']==store].value_counts()"
   ]
  },
  {
   "cell_type": "code",
   "execution_count": 22,
   "metadata": {},
   "outputs": [
    {
     "data": {
      "text/plain": [
       "BISCUITS - CORE & NON CORE    683\n",
       "CHOCOLATE                     373\n",
       "SALTY SNACKS (2/97)           224\n",
       "VERMICELLI & NOODLE           146\n",
       "CONFECTIONERY - TOFFEE/HBC    125\n",
       "Name: GRP, dtype: int64"
      ]
     },
     "execution_count": 22,
     "metadata": {},
     "output_type": "execute_result"
    }
   ],
   "source": [
    "top_grp_sale(data,'M1','N1').head(5)\n",
    "## top 5 GRP sale from month 1 and storecode 1"
   ]
  },
  {
   "cell_type": "code",
   "execution_count": 23,
   "metadata": {},
   "outputs": [],
   "source": [
    "grp=data[['GRP','MBRD','PRICE']]"
   ]
  },
  {
   "cell_type": "code",
   "execution_count": 24,
   "metadata": {},
   "outputs": [
    {
     "data": {
      "text/html": [
       "<div>\n",
       "<style scoped>\n",
       "    .dataframe tbody tr th:only-of-type {\n",
       "        vertical-align: middle;\n",
       "    }\n",
       "\n",
       "    .dataframe tbody tr th {\n",
       "        vertical-align: top;\n",
       "    }\n",
       "\n",
       "    .dataframe thead th {\n",
       "        text-align: right;\n",
       "    }\n",
       "</style>\n",
       "<table border=\"1\" class=\"dataframe\">\n",
       "  <thead>\n",
       "    <tr style=\"text-align: right;\">\n",
       "      <th></th>\n",
       "      <th>GRP</th>\n",
       "      <th>MBRD</th>\n",
       "      <th>PRICE</th>\n",
       "    </tr>\n",
       "  </thead>\n",
       "  <tbody>\n",
       "    <tr>\n",
       "      <th>0</th>\n",
       "      <td>BUTTER MARGR  (4/94)</td>\n",
       "      <td>AMUL</td>\n",
       "      <td>225.0</td>\n",
       "    </tr>\n",
       "    <tr>\n",
       "      <th>1</th>\n",
       "      <td>CONFECTIONERY - ECLAIRS</td>\n",
       "      <td>MELODY</td>\n",
       "      <td>95.0</td>\n",
       "    </tr>\n",
       "    <tr>\n",
       "      <th>2</th>\n",
       "      <td>CHOCOLATE</td>\n",
       "      <td>CADBURY SHOTS</td>\n",
       "      <td>10.0</td>\n",
       "    </tr>\n",
       "    <tr>\n",
       "      <th>3</th>\n",
       "      <td>PACKAGED TEA</td>\n",
       "      <td>WAGH BAKRI</td>\n",
       "      <td>108.0</td>\n",
       "    </tr>\n",
       "    <tr>\n",
       "      <th>4</th>\n",
       "      <td>ALL IODISED SALT</td>\n",
       "      <td>TATA</td>\n",
       "      <td>19.0</td>\n",
       "    </tr>\n",
       "  </tbody>\n",
       "</table>\n",
       "</div>"
      ],
      "text/plain": [
       "                       GRP           MBRD  PRICE\n",
       "0     BUTTER MARGR  (4/94)           AMUL  225.0\n",
       "1  CONFECTIONERY - ECLAIRS         MELODY   95.0\n",
       "2                CHOCOLATE  CADBURY SHOTS   10.0\n",
       "3             PACKAGED TEA     WAGH BAKRI  108.0\n",
       "4         ALL IODISED SALT           TATA   19.0"
      ]
     },
     "execution_count": 24,
     "metadata": {},
     "output_type": "execute_result"
    }
   ],
   "source": [
    "grp_price_list=grp.drop_duplicates(keep='first')\n",
    "grp_price_list.head()\n",
    "## price for each grp of different manufacturing brand since there can be many GRP with same name(average case)"
   ]
  },
  {
   "cell_type": "code",
   "execution_count": 44,
   "metadata": {},
   "outputs": [
    {
     "data": {
      "text/plain": [
       "8     149\n",
       "7     137\n",
       "11    134\n",
       "9     134\n",
       "14    129\n",
       "4     128\n",
       "29    127\n",
       "26    125\n",
       "13    124\n",
       "12    121\n",
       "5     120\n",
       "6     119\n",
       "25    114\n",
       "17    114\n",
       "30    105\n",
       "16    104\n",
       "10    103\n",
       "15     94\n",
       "20     91\n",
       "21     84\n",
       "28     70\n",
       "Name: DAY, dtype: int64"
      ]
     },
     "execution_count": 44,
     "metadata": {},
     "output_type": "execute_result"
    }
   ],
   "source": [
    "data[data['MONTH']=='M1'][data['STORECODE']=='N1']['DAY'].value_counts()\n",
    "# we can see the sale frequency count for different days from month M1 and storecode N1\n",
    "# we can take mean of it and assume that for missing days will be same sale frequency count(like 115 for all missed days from\n",
    "# M1 and store N1)"
   ]
  },
  {
   "cell_type": "code",
   "execution_count": 26,
   "metadata": {},
   "outputs": [
    {
     "data": {
      "text/plain": [
       "[1, 2, 3, 18, 19, 22, 23, 24, 27]"
      ]
     },
     "execution_count": 26,
     "metadata": {},
     "output_type": "execute_result"
    }
   ],
   "source": [
    "miss_days('M1','N1')"
   ]
  },
  {
   "cell_type": "code",
   "execution_count": 27,
   "metadata": {},
   "outputs": [],
   "source": [
    "# creating separates series for day, month and storecode to repeat as imputation\n",
    "res_day, res_mon, res_store=pd.Series(), pd.Series(), pd.Series()\n",
    "for mon in data['MONTH'].unique():\n",
    "    for store in data['STORECODE'].unique():\n",
    "        d=pd.Series(miss_days(mon, store))\n",
    "        m=pd.Series([mon]*len(d))   #e.g. for 2 days there will be same no. of month so month will be repeat as days repeated \n",
    "        s=pd.Series([store]*len(d))\n",
    "        # floor mean value of days sale frequenct count based on month and store\n",
    "        rep=np.floor(data[data['MONTH']==mon][data['STORECODE']==store]['DAY'].value_counts().mean())\n",
    "        # appending repeated series to specific series in each iteration\n",
    "        res_day=res_day.append(d.repeat(rep), ignore_index=True)\n",
    "        res_mon=res_mon.append(m.repeat(rep), ignore_index=True)\n",
    "        res_store=res_store.append(s.repeat(rep), ignore_index=True)"
   ]
  },
  {
   "cell_type": "code",
   "execution_count": 28,
   "metadata": {},
   "outputs": [
    {
     "data": {
      "text/plain": [
       "(9117, 9117, 9117)"
      ]
     },
     "execution_count": 28,
     "metadata": {},
     "output_type": "execute_result"
    }
   ],
   "source": [
    "res_day.size, res_mon.size, res_store.size"
   ]
  },
  {
   "cell_type": "code",
   "execution_count": 29,
   "metadata": {},
   "outputs": [],
   "source": [
    "# creating separates series for price and grp to repeat as imputation\n",
    "result_value, result_grp=pd.Series(), pd.Series()\n",
    "for mon in data['MONTH'].unique():\n",
    "    for store in data['STORECODE'].unique():\n",
    "        d=pd.Series(miss_days(mon, store))\n",
    "        max_rep=np.floor(data[data['MONTH']==mon][data['STORECODE']==store]['DAY'].value_counts().mean()).astype(int)\n",
    "        rep_value=data['VALUE'][data['MONTH']==mon][data['STORECODE']==store].head(max_rep)\n",
    "        rep_grp=data['GRP'][data['MONTH']==mon][data['STORECODE']==store].head(max_rep)\n",
    "        result_value=result_value.append(rep_value.repeat(len(d)), ignore_index=True)\n",
    "        result_grp=result_grp.append(rep_grp.repeat(len(d)), ignore_index=True)"
   ]
  },
  {
   "cell_type": "code",
   "execution_count": 30,
   "metadata": {},
   "outputs": [
    {
     "data": {
      "text/plain": [
       "(9117, 9117)"
      ]
     },
     "execution_count": 30,
     "metadata": {},
     "output_type": "execute_result"
    }
   ],
   "source": [
    "result_value.size, result_grp.size"
   ]
  },
  {
   "cell_type": "code",
   "execution_count": 31,
   "metadata": {},
   "outputs": [
    {
     "data": {
      "text/plain": [
       "(1035, 5)"
      ]
     },
     "execution_count": 31,
     "metadata": {},
     "output_type": "execute_result"
    }
   ],
   "source": [
    "df_imputed=pd.DataFrame({'MONTH': res_mon, 'STORECODE': res_store, 'DAY':res_day, 'VALUE':result_value, 'GRP': result_grp})\n",
    "df_imputed[df_imputed['MONTH']=='M1'][df_imputed['STORECODE']=='N1'].shape\n",
    "# we can cross check ---> as for month M1 and store N1 there were 9 days missing and mean days frequency count was 115 so\n",
    "# 115 for each days = 1035"
   ]
  },
  {
   "cell_type": "code",
   "execution_count": 32,
   "metadata": {},
   "outputs": [
    {
     "data": {
      "text/html": [
       "<div>\n",
       "<style scoped>\n",
       "    .dataframe tbody tr th:only-of-type {\n",
       "        vertical-align: middle;\n",
       "    }\n",
       "\n",
       "    .dataframe tbody tr th {\n",
       "        vertical-align: top;\n",
       "    }\n",
       "\n",
       "    .dataframe thead th {\n",
       "        text-align: right;\n",
       "    }\n",
       "</style>\n",
       "<table border=\"1\" class=\"dataframe\">\n",
       "  <thead>\n",
       "    <tr style=\"text-align: right;\">\n",
       "      <th></th>\n",
       "      <th>MONTH</th>\n",
       "      <th>STORECODE</th>\n",
       "      <th>DAY</th>\n",
       "      <th>VALUE</th>\n",
       "      <th>GRP</th>\n",
       "    </tr>\n",
       "  </thead>\n",
       "  <tbody>\n",
       "    <tr>\n",
       "      <th>0</th>\n",
       "      <td>M1</td>\n",
       "      <td>N1</td>\n",
       "      <td>1</td>\n",
       "      <td>225.0</td>\n",
       "      <td>BUTTER MARGR  (4/94)</td>\n",
       "    </tr>\n",
       "    <tr>\n",
       "      <th>1</th>\n",
       "      <td>M1</td>\n",
       "      <td>N1</td>\n",
       "      <td>1</td>\n",
       "      <td>225.0</td>\n",
       "      <td>BUTTER MARGR  (4/94)</td>\n",
       "    </tr>\n",
       "    <tr>\n",
       "      <th>2</th>\n",
       "      <td>M1</td>\n",
       "      <td>N1</td>\n",
       "      <td>1</td>\n",
       "      <td>225.0</td>\n",
       "      <td>BUTTER MARGR  (4/94)</td>\n",
       "    </tr>\n",
       "    <tr>\n",
       "      <th>3</th>\n",
       "      <td>M1</td>\n",
       "      <td>N1</td>\n",
       "      <td>1</td>\n",
       "      <td>225.0</td>\n",
       "      <td>BUTTER MARGR  (4/94)</td>\n",
       "    </tr>\n",
       "    <tr>\n",
       "      <th>4</th>\n",
       "      <td>M1</td>\n",
       "      <td>N1</td>\n",
       "      <td>1</td>\n",
       "      <td>225.0</td>\n",
       "      <td>BUTTER MARGR  (4/94)</td>\n",
       "    </tr>\n",
       "  </tbody>\n",
       "</table>\n",
       "</div>"
      ],
      "text/plain": [
       "  MONTH STORECODE  DAY  VALUE                   GRP\n",
       "0    M1        N1    1  225.0  BUTTER MARGR  (4/94)\n",
       "1    M1        N1    1  225.0  BUTTER MARGR  (4/94)\n",
       "2    M1        N1    1  225.0  BUTTER MARGR  (4/94)\n",
       "3    M1        N1    1  225.0  BUTTER MARGR  (4/94)\n",
       "4    M1        N1    1  225.0  BUTTER MARGR  (4/94)"
      ]
     },
     "execution_count": 32,
     "metadata": {},
     "output_type": "execute_result"
    }
   ],
   "source": [
    "df_imputed.head()"
   ]
  },
  {
   "cell_type": "code",
   "execution_count": 33,
   "metadata": {},
   "outputs": [
    {
     "data": {
      "text/plain": [
       "Index(['MONTH', 'STORECODE', 'DAY', 'BILL_ID', 'BILL_AMT', 'QTY', 'VALUE',\n",
       "       'PRICE', 'GRP', 'SGRP', 'SSGRP', 'CMP', 'MBRD', 'BRD'],\n",
       "      dtype='object')"
      ]
     },
     "execution_count": 33,
     "metadata": {},
     "output_type": "execute_result"
    }
   ],
   "source": [
    "data.columns"
   ]
  },
  {
   "cell_type": "code",
   "execution_count": 34,
   "metadata": {
    "scrolled": false
   },
   "outputs": [
    {
     "data": {
      "text/html": [
       "<div>\n",
       "<style scoped>\n",
       "    .dataframe tbody tr th:only-of-type {\n",
       "        vertical-align: middle;\n",
       "    }\n",
       "\n",
       "    .dataframe tbody tr th {\n",
       "        vertical-align: top;\n",
       "    }\n",
       "\n",
       "    .dataframe thead th {\n",
       "        text-align: right;\n",
       "    }\n",
       "</style>\n",
       "<table border=\"1\" class=\"dataframe\">\n",
       "  <thead>\n",
       "    <tr style=\"text-align: right;\">\n",
       "      <th></th>\n",
       "      <th>MONTH</th>\n",
       "      <th>STORECODE</th>\n",
       "      <th>VALUE</th>\n",
       "      <th>GRP</th>\n",
       "    </tr>\n",
       "  </thead>\n",
       "  <tbody>\n",
       "    <tr>\n",
       "      <th>0</th>\n",
       "      <td>M1</td>\n",
       "      <td>N1</td>\n",
       "      <td>225.0</td>\n",
       "      <td>BUTTER MARGR  (4/94)</td>\n",
       "    </tr>\n",
       "    <tr>\n",
       "      <th>1</th>\n",
       "      <td>M1</td>\n",
       "      <td>N1</td>\n",
       "      <td>95.0</td>\n",
       "      <td>CONFECTIONERY - ECLAIRS</td>\n",
       "    </tr>\n",
       "    <tr>\n",
       "      <th>2</th>\n",
       "      <td>M1</td>\n",
       "      <td>N1</td>\n",
       "      <td>10.0</td>\n",
       "      <td>CHOCOLATE</td>\n",
       "    </tr>\n",
       "    <tr>\n",
       "      <th>3</th>\n",
       "      <td>M1</td>\n",
       "      <td>N1</td>\n",
       "      <td>108.0</td>\n",
       "      <td>PACKAGED TEA</td>\n",
       "    </tr>\n",
       "    <tr>\n",
       "      <th>4</th>\n",
       "      <td>M1</td>\n",
       "      <td>N1</td>\n",
       "      <td>19.0</td>\n",
       "      <td>ALL IODISED SALT</td>\n",
       "    </tr>\n",
       "  </tbody>\n",
       "</table>\n",
       "</div>"
      ],
      "text/plain": [
       "  MONTH STORECODE  VALUE                      GRP\n",
       "0    M1        N1  225.0     BUTTER MARGR  (4/94)\n",
       "1    M1        N1   95.0  CONFECTIONERY - ECLAIRS\n",
       "2    M1        N1   10.0                CHOCOLATE\n",
       "3    M1        N1  108.0             PACKAGED TEA\n",
       "4    M1        N1   19.0         ALL IODISED SALT"
      ]
     },
     "execution_count": 34,
     "metadata": {},
     "output_type": "execute_result"
    }
   ],
   "source": [
    "data1=data.loc[:,['MONTH','STORECODE','VALUE','GRP']]\n",
    "data1.head()"
   ]
  },
  {
   "cell_type": "code",
   "execution_count": 35,
   "metadata": {},
   "outputs": [
    {
     "data": {
      "text/html": [
       "<div>\n",
       "<style scoped>\n",
       "    .dataframe tbody tr th:only-of-type {\n",
       "        vertical-align: middle;\n",
       "    }\n",
       "\n",
       "    .dataframe tbody tr th {\n",
       "        vertical-align: top;\n",
       "    }\n",
       "\n",
       "    .dataframe thead th {\n",
       "        text-align: right;\n",
       "    }\n",
       "</style>\n",
       "<table border=\"1\" class=\"dataframe\">\n",
       "  <thead>\n",
       "    <tr style=\"text-align: right;\">\n",
       "      <th></th>\n",
       "      <th>GRP</th>\n",
       "      <th>MONTH</th>\n",
       "      <th>STORECODE</th>\n",
       "      <th>VALUE</th>\n",
       "    </tr>\n",
       "  </thead>\n",
       "  <tbody>\n",
       "    <tr>\n",
       "      <th>0</th>\n",
       "      <td>BUTTER MARGR  (4/94)</td>\n",
       "      <td>M1</td>\n",
       "      <td>N1</td>\n",
       "      <td>225.0</td>\n",
       "    </tr>\n",
       "    <tr>\n",
       "      <th>1</th>\n",
       "      <td>CONFECTIONERY - ECLAIRS</td>\n",
       "      <td>M1</td>\n",
       "      <td>N1</td>\n",
       "      <td>95.0</td>\n",
       "    </tr>\n",
       "    <tr>\n",
       "      <th>2</th>\n",
       "      <td>CHOCOLATE</td>\n",
       "      <td>M1</td>\n",
       "      <td>N1</td>\n",
       "      <td>10.0</td>\n",
       "    </tr>\n",
       "    <tr>\n",
       "      <th>3</th>\n",
       "      <td>PACKAGED TEA</td>\n",
       "      <td>M1</td>\n",
       "      <td>N1</td>\n",
       "      <td>108.0</td>\n",
       "    </tr>\n",
       "    <tr>\n",
       "      <th>4</th>\n",
       "      <td>ALL IODISED SALT</td>\n",
       "      <td>M1</td>\n",
       "      <td>N1</td>\n",
       "      <td>19.0</td>\n",
       "    </tr>\n",
       "  </tbody>\n",
       "</table>\n",
       "</div>"
      ],
      "text/plain": [
       "                       GRP MONTH STORECODE  VALUE\n",
       "0     BUTTER MARGR  (4/94)    M1        N1  225.0\n",
       "1  CONFECTIONERY - ECLAIRS    M1        N1   95.0\n",
       "2                CHOCOLATE    M1        N1   10.0\n",
       "3             PACKAGED TEA    M1        N1  108.0\n",
       "4         ALL IODISED SALT    M1        N1   19.0"
      ]
     },
     "execution_count": 35,
     "metadata": {},
     "output_type": "execute_result"
    }
   ],
   "source": [
    "# lets concatenate imputed and train dataset\n",
    "final_data=pd.concat([data1,df_imputed], ignore_index=True)\n",
    "final_data.drop('DAY',1,inplace=True)\n",
    "final_data.head()"
   ]
  },
  {
   "cell_type": "code",
   "execution_count": 307,
   "metadata": {},
   "outputs": [],
   "source": [
    "import pickle"
   ]
  },
  {
   "cell_type": "code",
   "execution_count": 308,
   "metadata": {
    "scrolled": true
   },
   "outputs": [],
   "source": [
    "f=open('final_data','wb')\n",
    "pickle.dump(final_data,f)\n",
    "f.close()"
   ]
  },
  {
   "cell_type": "code",
   "execution_count": 4,
   "metadata": {},
   "outputs": [],
   "source": [
    "# f=open('final_data', 'rb')\n",
    "# data1=pickle.load(f)\n",
    "# f.close()"
   ]
  },
  {
   "cell_type": "code",
   "execution_count": 36,
   "metadata": {
    "scrolled": true
   },
   "outputs": [
    {
     "data": {
      "text/html": [
       "<div>\n",
       "<style scoped>\n",
       "    .dataframe tbody tr th:only-of-type {\n",
       "        vertical-align: middle;\n",
       "    }\n",
       "\n",
       "    .dataframe tbody tr th {\n",
       "        vertical-align: top;\n",
       "    }\n",
       "\n",
       "    .dataframe thead th {\n",
       "        text-align: right;\n",
       "    }\n",
       "</style>\n",
       "<table border=\"1\" class=\"dataframe\">\n",
       "  <thead>\n",
       "    <tr style=\"text-align: right;\">\n",
       "      <th></th>\n",
       "      <th>ID</th>\n",
       "      <th>STORECODE</th>\n",
       "      <th>MONTH</th>\n",
       "      <th>GRP</th>\n",
       "    </tr>\n",
       "  </thead>\n",
       "  <tbody>\n",
       "    <tr>\n",
       "      <th>0</th>\n",
       "      <td>1112535</td>\n",
       "      <td>N1</td>\n",
       "      <td>M1</td>\n",
       "      <td>AFTER SHAVE LOTIONS</td>\n",
       "    </tr>\n",
       "    <tr>\n",
       "      <th>1</th>\n",
       "      <td>1112539</td>\n",
       "      <td>N1</td>\n",
       "      <td>M1</td>\n",
       "      <td>AGARBATTI &amp; DHOOPBATTI</td>\n",
       "    </tr>\n",
       "    <tr>\n",
       "      <th>2</th>\n",
       "      <td>1112543</td>\n",
       "      <td>N1</td>\n",
       "      <td>M1</td>\n",
       "      <td>ALL AIR FRESHNERS(01/03)</td>\n",
       "    </tr>\n",
       "    <tr>\n",
       "      <th>3</th>\n",
       "      <td>1112547</td>\n",
       "      <td>N1</td>\n",
       "      <td>M1</td>\n",
       "      <td>ALL IODISED SALT</td>\n",
       "    </tr>\n",
       "    <tr>\n",
       "      <th>4</th>\n",
       "      <td>1112551</td>\n",
       "      <td>N1</td>\n",
       "      <td>M1</td>\n",
       "      <td>ANTACIDS</td>\n",
       "    </tr>\n",
       "  </tbody>\n",
       "</table>\n",
       "</div>"
      ],
      "text/plain": [
       "        ID STORECODE MONTH                       GRP\n",
       "0  1112535        N1    M1       AFTER SHAVE LOTIONS\n",
       "1  1112539        N1    M1    AGARBATTI & DHOOPBATTI\n",
       "2  1112543        N1    M1  ALL AIR FRESHNERS(01/03)\n",
       "3  1112547        N1    M1          ALL IODISED SALT\n",
       "4  1112551        N1    M1                  ANTACIDS"
      ]
     },
     "execution_count": 36,
     "metadata": {},
     "output_type": "execute_result"
    }
   ],
   "source": [
    "test.head()"
   ]
  },
  {
   "cell_type": "code",
   "execution_count": 301,
   "metadata": {},
   "outputs": [
    {
     "data": {
      "text/plain": [
       "(2430, 4)"
      ]
     },
     "execution_count": 301,
     "metadata": {},
     "output_type": "execute_result"
    }
   ],
   "source": [
    "test.shape"
   ]
  },
  {
   "cell_type": "code",
   "execution_count": 37,
   "metadata": {
    "scrolled": true
   },
   "outputs": [
    {
     "data": {
      "text/html": [
       "<div>\n",
       "<style scoped>\n",
       "    .dataframe tbody tr th:only-of-type {\n",
       "        vertical-align: middle;\n",
       "    }\n",
       "\n",
       "    .dataframe tbody tr th {\n",
       "        vertical-align: top;\n",
       "    }\n",
       "\n",
       "    .dataframe thead th {\n",
       "        text-align: right;\n",
       "    }\n",
       "</style>\n",
       "<table border=\"1\" class=\"dataframe\">\n",
       "  <thead>\n",
       "    <tr style=\"text-align: right;\">\n",
       "      <th></th>\n",
       "      <th>GRP</th>\n",
       "      <th>MONTH</th>\n",
       "      <th>STORECODE</th>\n",
       "      <th>VALUE</th>\n",
       "    </tr>\n",
       "  </thead>\n",
       "  <tbody>\n",
       "    <tr>\n",
       "      <th>0</th>\n",
       "      <td>BUTTER MARGR  (4/94)</td>\n",
       "      <td>M1</td>\n",
       "      <td>N1</td>\n",
       "      <td>225.0</td>\n",
       "    </tr>\n",
       "    <tr>\n",
       "      <th>1</th>\n",
       "      <td>CONFECTIONERY - ECLAIRS</td>\n",
       "      <td>M1</td>\n",
       "      <td>N1</td>\n",
       "      <td>95.0</td>\n",
       "    </tr>\n",
       "    <tr>\n",
       "      <th>2</th>\n",
       "      <td>CHOCOLATE</td>\n",
       "      <td>M1</td>\n",
       "      <td>N1</td>\n",
       "      <td>10.0</td>\n",
       "    </tr>\n",
       "  </tbody>\n",
       "</table>\n",
       "</div>"
      ],
      "text/plain": [
       "                       GRP MONTH STORECODE  VALUE\n",
       "0     BUTTER MARGR  (4/94)    M1        N1  225.0\n",
       "1  CONFECTIONERY - ECLAIRS    M1        N1   95.0\n",
       "2                CHOCOLATE    M1        N1   10.0"
      ]
     },
     "execution_count": 37,
     "metadata": {},
     "output_type": "execute_result"
    }
   ],
   "source": [
    "final_data.head(3)"
   ]
  },
  {
   "cell_type": "code",
   "execution_count": 38,
   "metadata": {},
   "outputs": [],
   "source": [
    "test_total=[]\n",
    "for i,j,k in zip(test['MONTH'],test['STORECODE'],test['GRP']):\n",
    "    pred=final_data['VALUE'][final_data['MONTH']==i][final_data['STORECODE']==j][final_data['GRP']==k]\n",
    "    if len(pred.value_counts().values)==0:\n",
    "        test_total.append(0)\n",
    "    else:\n",
    "        test_total.append(pred.sum())"
   ]
  },
  {
   "cell_type": "code",
   "execution_count": 39,
   "metadata": {},
   "outputs": [],
   "source": [
    "test_total=np.round(test_total)"
   ]
  },
  {
   "cell_type": "code",
   "execution_count": 40,
   "metadata": {},
   "outputs": [],
   "source": [
    "test['TOTALVALUE']=test_total\n",
    "test['TOTALVALUE']=test['TOTALVALUE'].astype(int)"
   ]
  },
  {
   "cell_type": "code",
   "execution_count": 313,
   "metadata": {},
   "outputs": [],
   "source": [
    "file=open('final_test_data','wb')\n",
    "pickle.dump(test,file)\n",
    "file.close()"
   ]
  },
  {
   "cell_type": "code",
   "execution_count": 41,
   "metadata": {},
   "outputs": [
    {
     "data": {
      "text/html": [
       "<div>\n",
       "<style scoped>\n",
       "    .dataframe tbody tr th:only-of-type {\n",
       "        vertical-align: middle;\n",
       "    }\n",
       "\n",
       "    .dataframe tbody tr th {\n",
       "        vertical-align: top;\n",
       "    }\n",
       "\n",
       "    .dataframe thead th {\n",
       "        text-align: right;\n",
       "    }\n",
       "</style>\n",
       "<table border=\"1\" class=\"dataframe\">\n",
       "  <thead>\n",
       "    <tr style=\"text-align: right;\">\n",
       "      <th></th>\n",
       "      <th>ID</th>\n",
       "      <th>STORECODE</th>\n",
       "      <th>MONTH</th>\n",
       "      <th>GRP</th>\n",
       "      <th>TOTALVALUE</th>\n",
       "    </tr>\n",
       "  </thead>\n",
       "  <tbody>\n",
       "    <tr>\n",
       "      <th>0</th>\n",
       "      <td>1112535</td>\n",
       "      <td>N1</td>\n",
       "      <td>M1</td>\n",
       "      <td>AFTER SHAVE LOTIONS</td>\n",
       "      <td>0</td>\n",
       "    </tr>\n",
       "    <tr>\n",
       "      <th>1</th>\n",
       "      <td>1112539</td>\n",
       "      <td>N1</td>\n",
       "      <td>M1</td>\n",
       "      <td>AGARBATTI &amp; DHOOPBATTI</td>\n",
       "      <td>70</td>\n",
       "    </tr>\n",
       "    <tr>\n",
       "      <th>2</th>\n",
       "      <td>1112543</td>\n",
       "      <td>N1</td>\n",
       "      <td>M1</td>\n",
       "      <td>ALL AIR FRESHNERS(01/03)</td>\n",
       "      <td>560</td>\n",
       "    </tr>\n",
       "    <tr>\n",
       "      <th>3</th>\n",
       "      <td>1112547</td>\n",
       "      <td>N1</td>\n",
       "      <td>M1</td>\n",
       "      <td>ALL IODISED SALT</td>\n",
       "      <td>1373</td>\n",
       "    </tr>\n",
       "    <tr>\n",
       "      <th>4</th>\n",
       "      <td>1112551</td>\n",
       "      <td>N1</td>\n",
       "      <td>M1</td>\n",
       "      <td>ANTACIDS</td>\n",
       "      <td>143</td>\n",
       "    </tr>\n",
       "    <tr>\n",
       "      <th>5</th>\n",
       "      <td>1112555</td>\n",
       "      <td>N1</td>\n",
       "      <td>M1</td>\n",
       "      <td>ANTISEPTIC CREAMS</td>\n",
       "      <td>0</td>\n",
       "    </tr>\n",
       "    <tr>\n",
       "      <th>6</th>\n",
       "      <td>1112559</td>\n",
       "      <td>N1</td>\n",
       "      <td>M1</td>\n",
       "      <td>ANTISEPTIC LIQUIDS (4/97)</td>\n",
       "      <td>50</td>\n",
       "    </tr>\n",
       "    <tr>\n",
       "      <th>7</th>\n",
       "      <td>1112563</td>\n",
       "      <td>N1</td>\n",
       "      <td>M1</td>\n",
       "      <td>BABY FOODS</td>\n",
       "      <td>0</td>\n",
       "    </tr>\n",
       "    <tr>\n",
       "      <th>8</th>\n",
       "      <td>1112567</td>\n",
       "      <td>N1</td>\n",
       "      <td>M1</td>\n",
       "      <td>BABY OILS / MASSAGE OILS</td>\n",
       "      <td>0</td>\n",
       "    </tr>\n",
       "    <tr>\n",
       "      <th>9</th>\n",
       "      <td>1112571</td>\n",
       "      <td>N1</td>\n",
       "      <td>M1</td>\n",
       "      <td>BATTERIES</td>\n",
       "      <td>476</td>\n",
       "    </tr>\n",
       "  </tbody>\n",
       "</table>\n",
       "</div>"
      ],
      "text/plain": [
       "        ID STORECODE MONTH                        GRP  TOTALVALUE\n",
       "0  1112535        N1    M1        AFTER SHAVE LOTIONS           0\n",
       "1  1112539        N1    M1     AGARBATTI & DHOOPBATTI          70\n",
       "2  1112543        N1    M1   ALL AIR FRESHNERS(01/03)         560\n",
       "3  1112547        N1    M1           ALL IODISED SALT        1373\n",
       "4  1112551        N1    M1                   ANTACIDS         143\n",
       "5  1112555        N1    M1          ANTISEPTIC CREAMS           0\n",
       "6  1112559        N1    M1  ANTISEPTIC LIQUIDS (4/97)          50\n",
       "7  1112563        N1    M1                 BABY FOODS           0\n",
       "8  1112567        N1    M1   BABY OILS / MASSAGE OILS           0\n",
       "9  1112571        N1    M1                  BATTERIES         476"
      ]
     },
     "execution_count": 41,
     "metadata": {},
     "output_type": "execute_result"
    }
   ],
   "source": [
    "test.head(10)"
   ]
  },
  {
   "cell_type": "code",
   "execution_count": 42,
   "metadata": {},
   "outputs": [],
   "source": [
    "submission=test.loc[:,['ID','TOTALVALUE']]"
   ]
  },
  {
   "cell_type": "code",
   "execution_count": 316,
   "metadata": {},
   "outputs": [],
   "source": [
    "submission.to_csv('final_submission.csv', index=False)"
   ]
  },
  {
   "cell_type": "code",
   "execution_count": null,
   "metadata": {},
   "outputs": [],
   "source": []
  },
  {
   "cell_type": "code",
   "execution_count": null,
   "metadata": {},
   "outputs": [],
   "source": []
  }
 ],
 "metadata": {
  "kernelspec": {
   "display_name": "Python 3",
   "language": "python",
   "name": "python3"
  },
  "language_info": {
   "codemirror_mode": {
    "name": "ipython",
    "version": 3
   },
   "file_extension": ".py",
   "mimetype": "text/x-python",
   "name": "python",
   "nbconvert_exporter": "python",
   "pygments_lexer": "ipython3",
   "version": "3.7.3"
  }
 },
 "nbformat": 4,
 "nbformat_minor": 2
}
